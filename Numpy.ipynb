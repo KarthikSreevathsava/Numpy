{
 "cells": [
  {
   "cell_type": "code",
   "execution_count": null,
   "id": "150a2a7b",
   "metadata": {},
   "outputs": [],
   "source": [
    "import numpy as np"
   ]
  },
  {
   "cell_type": "markdown",
   "id": "bc72f60a",
   "metadata": {},
   "source": [
    "# 1. Converting a List to Array"
   ]
  },
  {
   "cell_type": "code",
   "execution_count": 2,
   "id": "2cb8c885",
   "metadata": {},
   "outputs": [
    {
     "name": "stdout",
     "output_type": "stream",
     "text": [
      "<class 'list'>\n"
     ]
    }
   ],
   "source": [
    "lst = [1,2,3,4]\n",
    "\n",
    "print(type(lst))"
   ]
  },
  {
   "cell_type": "code",
   "execution_count": 4,
   "id": "03713ed1",
   "metadata": {},
   "outputs": [
    {
     "name": "stdout",
     "output_type": "stream",
     "text": [
      "[1 2 3 4]\n",
      "<class 'numpy.ndarray'>\n"
     ]
    }
   ],
   "source": [
    "arr = np.array(lst)\n",
    "\n",
    "print(arr)\n",
    "\n",
    "print(type(arr))"
   ]
  },
  {
   "cell_type": "code",
   "execution_count": 5,
   "id": "5fc58790",
   "metadata": {},
   "outputs": [
    {
     "name": "stdout",
     "output_type": "stream",
     "text": [
      "[[1 2 3 4]]\n"
     ]
    }
   ],
   "source": [
    "arr = np.array(lst,ndmin = 2)\n",
    "\n",
    "print(arr)"
   ]
  },
  {
   "cell_type": "markdown",
   "id": "5b755f75",
   "metadata": {},
   "source": [
    "#  2. Arrange Function\n",
    "    The arange([start,] stop[, step,][, dtype]) : Returns an array with evenly spaced elements as per the interval. The interval mentioned is half-opened i.e. [Start, Stop) \n"
   ]
  },
  {
   "cell_type": "code",
   "execution_count": 7,
   "id": "5d26a7b8",
   "metadata": {},
   "outputs": [
    {
     "data": {
      "text/plain": [
       "array([1, 3, 5, 7, 9])"
      ]
     },
     "execution_count": 7,
     "metadata": {},
     "output_type": "execute_result"
    }
   ],
   "source": [
    "arr = np.arange(1,10,2)\n",
    "arr"
   ]
  },
  {
   "cell_type": "markdown",
   "id": "88a5ca5e",
   "metadata": {},
   "source": [
    "# 3. Multidimensional Array"
   ]
  },
  {
   "cell_type": "code",
   "execution_count": 8,
   "id": "dca21948",
   "metadata": {},
   "outputs": [
    {
     "data": {
      "text/plain": [
       "[[1, 2, 3], [4, 5, 6], [7, 8, 9]]"
      ]
     },
     "execution_count": 8,
     "metadata": {},
     "output_type": "execute_result"
    }
   ],
   "source": [
    "[[1,2,3],[4,5,6],[7,8,9]]"
   ]
  },
  {
   "cell_type": "code",
   "execution_count": 10,
   "id": "e82769cb",
   "metadata": {},
   "outputs": [
    {
     "data": {
      "text/plain": [
       "array([[1, 2, 3],\n",
       "       [4, 5, 6],\n",
       "       [7, 8, 9]])"
      ]
     },
     "execution_count": 10,
     "metadata": {},
     "output_type": "execute_result"
    }
   ],
   "source": [
    "arr = np.array([[1,2,3],[4,5,6],[7,8,9]])\n",
    "arr"
   ]
  },
  {
   "cell_type": "markdown",
   "id": "e79c7997",
   "metadata": {},
   "source": [
    "# 4.Size Function\n",
    "    In Python, numpy.size() function count the number of elements along a given axis (0 - Rows | 1 - Columns)"
   ]
  },
  {
   "cell_type": "code",
   "execution_count": 11,
   "id": "bc23f034",
   "metadata": {},
   "outputs": [
    {
     "name": "stdout",
     "output_type": "stream",
     "text": [
      "Total :  9\n",
      "Rows  :  3\n",
      "Colums:  3\n"
     ]
    }
   ],
   "source": [
    "arr = np.array([[1,2,3],[4,5,6],[7,8,9]])\n",
    "print('Total : ', arr.size)\n",
    "print('Rows  : ', np.size(arr,0))\n",
    "print('Colums: ', np.size(arr,1))"
   ]
  },
  {
   "cell_type": "code",
   "execution_count": 12,
   "id": "ea1c1111",
   "metadata": {},
   "outputs": [
    {
     "name": "stdout",
     "output_type": "stream",
     "text": [
      "Total :  12\n",
      "Rows  :  4\n",
      "Colums:  3\n"
     ]
    }
   ],
   "source": [
    "arr = np.array([[1,2,3],[4,5,6],[7,8,9],[10,11,12]])\n",
    "print('Total : ', arr.size)\n",
    "print('Rows  : ', np.size(arr,0))\n",
    "print('Colums: ', np.size(arr,1))"
   ]
  },
  {
   "cell_type": "markdown",
   "id": "a368cab6",
   "metadata": {},
   "source": [
    "# 5.Shape Function\n",
    "The shape of an array can be defined as the number of elements in each dimension. Dimension is the number of indices or subscripts, that we require in order to specify an individual element of an array"
   ]
  },
  {
   "cell_type": "code",
   "execution_count": 15,
   "id": "f716862c",
   "metadata": {},
   "outputs": [
    {
     "name": "stdout",
     "output_type": "stream",
     "text": [
      "(4, 3)\n"
     ]
    }
   ],
   "source": [
    "arr = np.array([[1,2,3],[4,5,6],[7,8,9],[1,2,3]])\n",
    "print((np.size(arr,0),np.size(arr,1)))"
   ]
  },
  {
   "cell_type": "code",
   "execution_count": 18,
   "id": "afc47fda",
   "metadata": {},
   "outputs": [
    {
     "name": "stdout",
     "output_type": "stream",
     "text": [
      "(4, 3)\n"
     ]
    }
   ],
   "source": [
    "print(arr.shape)"
   ]
  },
  {
   "cell_type": "markdown",
   "id": "4c61e395",
   "metadata": {},
   "source": [
    "# 6.Dtype Function\n",
    "Every ndarray has an associated data type (dtype) object. This data type object (dtype) informs us about the layout of the array. This means it gives us information about:\n",
    "\n",
    " Type of the data (integer, float, Python object, etc.)\n",
    " \n",
    " Size of the data (number of bytes)\n",
    " \n",
    " The byte order of the data (little-endian or big-endian)\n",
    " \n",
    " If the data type is a sub-array, what is its shape and data type?"
   ]
  },
  {
   "cell_type": "code",
   "execution_count": 19,
   "id": "b766cd3f",
   "metadata": {},
   "outputs": [
    {
     "data": {
      "text/plain": [
       "array([1, 2, 3, 1, 2, 3])"
      ]
     },
     "execution_count": 19,
     "metadata": {},
     "output_type": "execute_result"
    }
   ],
   "source": [
    "arr = np.array([1,2,3,1,2,3])\n",
    "arr"
   ]
  },
  {
   "cell_type": "code",
   "execution_count": 21,
   "id": "3a22f995",
   "metadata": {},
   "outputs": [
    {
     "data": {
      "text/plain": [
       "dtype('int32')"
      ]
     },
     "execution_count": 21,
     "metadata": {},
     "output_type": "execute_result"
    }
   ],
   "source": [
    "arr.dtype"
   ]
  },
  {
   "cell_type": "code",
   "execution_count": 24,
   "id": "2da6b58b",
   "metadata": {},
   "outputs": [
    {
     "name": "stdout",
     "output_type": "stream",
     "text": [
      "float64\n"
     ]
    }
   ],
   "source": [
    "arr2 = np.array([1.2,3.2,4.5])\n",
    "arr2\n",
    "print(arr2.dtype)"
   ]
  },
  {
   "cell_type": "markdown",
   "id": "2b963380",
   "metadata": {},
   "source": [
    "# 7.Ndim Function\n",
    "    numpy.ndarray.ndim() function return the number of dimensions of an array."
   ]
  },
  {
   "cell_type": "code",
   "execution_count": 26,
   "id": "a09b4287",
   "metadata": {},
   "outputs": [
    {
     "name": "stdout",
     "output_type": "stream",
     "text": [
      "1\n",
      "2\n"
     ]
    }
   ],
   "source": [
    "arr1 = np.array([1,2,3,1,2,3])\n",
    "arr2 = np.array([[1,2,3],[1,2,3]])\n",
    "\n",
    "print(arr1.ndim)\n",
    "print(arr2.ndim)"
   ]
  },
  {
   "cell_type": "markdown",
   "id": "22d229ab",
   "metadata": {},
   "source": [
    "# 8. Zeros  Function\n",
    "    The numpy.zeros() function returns a new array of given shape and type, with zeros. Syntax:\n",
    "\n",
    "    numpy.zeros(shape, dtype = None)"
   ]
  },
  {
   "cell_type": "code",
   "execution_count": 28,
   "id": "3eb88fb9",
   "metadata": {},
   "outputs": [
    {
     "name": "stdout",
     "output_type": "stream",
     "text": [
      "[[0 0 0 0 0]\n",
      " [0 0 0 0 0]\n",
      " [0 0 0 0 0]]\n"
     ]
    }
   ],
   "source": [
    "arr = np.zeros(shape = (3,5), dtype = int)\n",
    "print(arr)"
   ]
  },
  {
   "cell_type": "markdown",
   "id": "1f532dc6",
   "metadata": {},
   "source": [
    "# Ones  Function\n",
    "    The numpy.ones() function returns a new array of given shape and type, with ones.\n",
    "\n",
    "    Syntax: numpy.ones(shape, dtype = None)"
   ]
  },
  {
   "cell_type": "code",
   "execution_count": 30,
   "id": "cc1c73f5",
   "metadata": {},
   "outputs": [
    {
     "name": "stdout",
     "output_type": "stream",
     "text": [
      "[[1 1 1 1 1]\n",
      " [1 1 1 1 1]\n",
      " [1 1 1 1 1]]\n"
     ]
    }
   ],
   "source": [
    "arr = np.ones(shape = (3,5), dtype = int)\n",
    "print(arr)"
   ]
  },
  {
   "cell_type": "markdown",
   "id": "e184a70a",
   "metadata": {},
   "source": [
    "# 9. Eye  Function\n",
    "    The eye tool returns a 2-D array with  1’s as the diagonal and  0’s elsewhere. The diagonal can be main, upper, or lower depending on the optional parameter k."
   ]
  },
  {
   "cell_type": "code",
   "execution_count": 33,
   "id": "3f8d143c",
   "metadata": {},
   "outputs": [
    {
     "data": {
      "text/plain": [
       "array([[1, 0],\n",
       "       [0, 1]])"
      ]
     },
     "execution_count": 33,
     "metadata": {},
     "output_type": "execute_result"
    }
   ],
   "source": [
    "np.eye(2, dtype = int)"
   ]
  },
  {
   "cell_type": "code",
   "execution_count": 34,
   "id": "f64a71ec",
   "metadata": {},
   "outputs": [
    {
     "data": {
      "text/plain": [
       "array([[1, 0, 0, 0, 0, 0, 0, 0, 0, 0, 0, 0, 0, 0, 0, 0, 0, 0, 0, 0],\n",
       "       [0, 1, 0, 0, 0, 0, 0, 0, 0, 0, 0, 0, 0, 0, 0, 0, 0, 0, 0, 0],\n",
       "       [0, 0, 1, 0, 0, 0, 0, 0, 0, 0, 0, 0, 0, 0, 0, 0, 0, 0, 0, 0],\n",
       "       [0, 0, 0, 1, 0, 0, 0, 0, 0, 0, 0, 0, 0, 0, 0, 0, 0, 0, 0, 0],\n",
       "       [0, 0, 0, 0, 1, 0, 0, 0, 0, 0, 0, 0, 0, 0, 0, 0, 0, 0, 0, 0],\n",
       "       [0, 0, 0, 0, 0, 1, 0, 0, 0, 0, 0, 0, 0, 0, 0, 0, 0, 0, 0, 0],\n",
       "       [0, 0, 0, 0, 0, 0, 1, 0, 0, 0, 0, 0, 0, 0, 0, 0, 0, 0, 0, 0],\n",
       "       [0, 0, 0, 0, 0, 0, 0, 1, 0, 0, 0, 0, 0, 0, 0, 0, 0, 0, 0, 0],\n",
       "       [0, 0, 0, 0, 0, 0, 0, 0, 1, 0, 0, 0, 0, 0, 0, 0, 0, 0, 0, 0],\n",
       "       [0, 0, 0, 0, 0, 0, 0, 0, 0, 1, 0, 0, 0, 0, 0, 0, 0, 0, 0, 0],\n",
       "       [0, 0, 0, 0, 0, 0, 0, 0, 0, 0, 1, 0, 0, 0, 0, 0, 0, 0, 0, 0],\n",
       "       [0, 0, 0, 0, 0, 0, 0, 0, 0, 0, 0, 1, 0, 0, 0, 0, 0, 0, 0, 0],\n",
       "       [0, 0, 0, 0, 0, 0, 0, 0, 0, 0, 0, 0, 1, 0, 0, 0, 0, 0, 0, 0],\n",
       "       [0, 0, 0, 0, 0, 0, 0, 0, 0, 0, 0, 0, 0, 1, 0, 0, 0, 0, 0, 0],\n",
       "       [0, 0, 0, 0, 0, 0, 0, 0, 0, 0, 0, 0, 0, 0, 1, 0, 0, 0, 0, 0],\n",
       "       [0, 0, 0, 0, 0, 0, 0, 0, 0, 0, 0, 0, 0, 0, 0, 1, 0, 0, 0, 0],\n",
       "       [0, 0, 0, 0, 0, 0, 0, 0, 0, 0, 0, 0, 0, 0, 0, 0, 1, 0, 0, 0],\n",
       "       [0, 0, 0, 0, 0, 0, 0, 0, 0, 0, 0, 0, 0, 0, 0, 0, 0, 1, 0, 0],\n",
       "       [0, 0, 0, 0, 0, 0, 0, 0, 0, 0, 0, 0, 0, 0, 0, 0, 0, 0, 1, 0],\n",
       "       [0, 0, 0, 0, 0, 0, 0, 0, 0, 0, 0, 0, 0, 0, 0, 0, 0, 0, 0, 1]])"
      ]
     },
     "execution_count": 34,
     "metadata": {},
     "output_type": "execute_result"
    }
   ],
   "source": [
    "np.eye(20, dtype = int)"
   ]
  },
  {
   "cell_type": "markdown",
   "id": "f5d14e62",
   "metadata": {},
   "source": [
    "# 10. Empty  Function\n",
    "    Return am empty array of given shape and type"
   ]
  },
  {
   "cell_type": "code",
   "execution_count": 35,
   "id": "864d5ab2",
   "metadata": {},
   "outputs": [
    {
     "data": {
      "text/plain": [
       "array([[6.23042070e-307, 1.86918699e-306, 1.69121096e-306,\n",
       "        1.60218491e-306, 1.20161118e-306],\n",
       "       [7.56599807e-307, 8.90104239e-307, 1.24610383e-306,\n",
       "        1.69118108e-306, 8.06632139e-308],\n",
       "       [1.20160711e-306, 1.69119330e-306, 1.29062229e-306,\n",
       "        1.60217812e-306, 1.37961370e-306],\n",
       "       [1.02359848e-306, 1.60219035e-306, 1.60220393e-306,\n",
       "        1.05700515e-307, 2.04712906e-306],\n",
       "       [7.56589622e-307, 1.11258277e-307, 8.90111708e-307,\n",
       "        1.42410974e-306, 3.23796840e-317]])"
      ]
     },
     "execution_count": 35,
     "metadata": {},
     "output_type": "execute_result"
    }
   ],
   "source": [
    "np.empty(shape = (5,5))"
   ]
  },
  {
   "cell_type": "markdown",
   "id": "a0c04bfe",
   "metadata": {},
   "source": [
    "# 11. Random  Functions\n",
    "   "
   ]
  },
  {
   "cell_type": "markdown",
   "id": "1f2981b3",
   "metadata": {},
   "source": [
    "###  a) np.random.rand\n",
    "    The numpy.random.rand() function creates an array of specified shape and fills it with random values."
   ]
  },
  {
   "cell_type": "code",
   "execution_count": 39,
   "id": "4588bc29",
   "metadata": {},
   "outputs": [
    {
     "data": {
      "text/plain": [
       "array([[0.50024063, 0.80193756, 0.01981207, 0.68758158],\n",
       "       [0.61857079, 0.52758225, 0.2177095 , 0.36991006],\n",
       "       [0.12701227, 0.66614741, 0.73704636, 0.12392616]])"
      ]
     },
     "execution_count": 39,
     "metadata": {},
     "output_type": "execute_result"
    }
   ],
   "source": [
    "np.random.rand(3,4)"
   ]
  },
  {
   "cell_type": "markdown",
   "id": "4eb0e330",
   "metadata": {},
   "source": [
    "### b) np.random.randint\n",
    "    numpy.random.randint() is one of the function for doing random sampling in numpy. It returns an array of specified shape and fills it with random integers from low (inclusive) to high (exclusive), i.e. in the interval [low, high)."
   ]
  },
  {
   "cell_type": "code",
   "execution_count": 42,
   "id": "40a4fe9e",
   "metadata": {},
   "outputs": [
    {
     "data": {
      "text/plain": [
       "array([1, 1, 8, 8, 9, 3, 1, 9, 2, 9])"
      ]
     },
     "execution_count": 42,
     "metadata": {},
     "output_type": "execute_result"
    }
   ],
   "source": [
    "np.random.randint(low = 1 , high = 10, size = 10)"
   ]
  },
  {
   "cell_type": "markdown",
   "id": "ac64e601",
   "metadata": {},
   "source": [
    "### c) np.random.randn\n",
    "    The numpy.random.randn() function creates an array of specified shape and fills it with random values as per standard normal distribution."
   ]
  },
  {
   "cell_type": "code",
   "execution_count": 43,
   "id": "dc8d5d00",
   "metadata": {},
   "outputs": [
    {
     "data": {
      "text/plain": [
       "array([ 0.63849109, -0.33305526,  0.81405189,  0.80352504, -0.64991506,\n",
       "        1.27070158,  0.38495784,  0.36357364,  1.55327739,  0.09709373,\n",
       "        2.33180816,  0.22834606,  0.45037816, -1.50543477,  1.23541558,\n",
       "       -0.55069814,  0.60513118, -0.37436188, -1.11855456,  0.92675947,\n",
       "       -0.78625425,  0.84302181,  0.61356284, -0.94831396, -1.11869571,\n",
       "       -1.32388575, -1.40192665,  0.67210682, -0.88477153, -0.27274972,\n",
       "       -0.11512644,  0.80298914, -0.60404052, -0.2584872 , -0.398025  ,\n",
       "       -0.44456441,  1.06831971,  0.99907028,  0.39077814, -0.24921534,\n",
       "        0.98382595, -2.2536851 ,  1.72508004,  1.54173926, -0.74544211,\n",
       "       -2.46371512,  2.1581329 , -0.92737735, -0.44076747, -0.55854434,\n",
       "        1.39692401,  0.36670318,  0.53480917,  0.94036286,  0.15914477,\n",
       "        0.05864228,  0.10488883,  0.98448377,  1.47312004,  0.81205875,\n",
       "        0.88388228,  0.73832647, -0.239281  ,  0.26244   , -0.45310886,\n",
       "        0.61596378,  0.15712714,  0.18396082,  0.01019743, -0.32949394,\n",
       "        1.53829544,  0.79066724, -0.1855103 ,  0.76179493, -0.2771848 ,\n",
       "        0.70746589,  1.01191984,  0.81808326, -0.09513268, -1.48968225,\n",
       "       -0.24027232,  1.525497  , -0.07537472,  1.33946703,  1.02104455,\n",
       "       -0.02906563,  1.90163588,  0.59371482,  0.47367017, -0.9912806 ,\n",
       "       -0.38975452,  2.57987808, -0.41883914,  0.75349646, -0.00258823,\n",
       "       -0.43747895,  1.64980412,  0.97961538, -1.68856365,  1.03281475])"
      ]
     },
     "execution_count": 43,
     "metadata": {},
     "output_type": "execute_result"
    }
   ],
   "source": [
    "np.random.randn(100)"
   ]
  },
  {
   "cell_type": "code",
   "execution_count": 50,
   "id": "d9447351",
   "metadata": {},
   "outputs": [
    {
     "data": {
      "image/png": "[encoded data removed]",
      "text/plain": [
       "<Figure size 640x480 with 1 Axes>"
      ]
     },
     "metadata": {},
     "output_type": "display_data"
    }
   ],
   "source": [
    "import matplotlib.pyplot as plt\n",
    "\n",
    "plt.hist(np.random.randn(10000000),bins= 1000);"
   ]
  },
  {
   "cell_type": "markdown",
   "id": "4012575e",
   "metadata": {},
   "source": [
    "# 12. Reshape function - will not alter the original data\n",
    "    The numpy.reshape() function shapes an array without changing the data of the array.<br> It should be noted that the product if the rows and columns should be same "
   ]
  },
  {
   "cell_type": "code",
   "execution_count": 58,
   "id": "35671b38",
   "metadata": {},
   "outputs": [
    {
     "name": "stdout",
     "output_type": "stream",
     "text": [
      "(3, 4)\n",
      "(4, 3)\n"
     ]
    }
   ],
   "source": [
    "arr = np.random.randint(1,15,(3,4))\n",
    "\n",
    "print(arr.shape)\n",
    "\n",
    "arr = arr.reshape(4,3)\n",
    "print(arr.shape)"
   ]
  },
  {
   "cell_type": "markdown",
   "id": "3a64200a",
   "metadata": {},
   "source": [
    "# 13. Linspace  Function\n",
    "    The numpy.linspace() function returns number spaces evenly w.r.t interval. Similar to numpy.arange() function but instead of step it uses sample number.\n",
    "    \n",
    "Parameters :\n",
    "\n",
    "-> start : [optional] start of interval range. By default start = 0\n",
    "\n",
    "-> stop : end of interval range\n",
    "\n",
    "-> restep : If True, return (samples, step). By default restep = False\n",
    "\n",
    "-> num : [int, optional] No. of samples to generate\n",
    "\n",
    "-> dtype : type of output array\n"
   ]
  },
  {
   "cell_type": "code",
   "execution_count": 60,
   "id": "0535e7f3",
   "metadata": {},
   "outputs": [
    {
     "data": {
      "text/plain": [
       "array([ 1.  ,  3.25,  5.5 ,  7.75, 10.  ])"
      ]
     },
     "execution_count": 60,
     "metadata": {},
     "output_type": "execute_result"
    }
   ],
   "source": [
    "np.linspace(1,10,5)"
   ]
  },
  {
   "cell_type": "markdown",
   "id": "74d313ba",
   "metadata": {},
   "source": [
    "# 14. Flatten  Function\n",
    "    ndarray.flatten() function return a copy of the array collapsed into one dimension."
   ]
  },
  {
   "cell_type": "code",
   "execution_count": 62,
   "id": "1cfc5771",
   "metadata": {},
   "outputs": [
    {
     "name": "stdout",
     "output_type": "stream",
     "text": [
      "(3, 4)\n",
      "[[ 6 13  7 12]\n",
      " [ 9  3 14 13]\n",
      " [11 10 14 14]]\n",
      "(12,)\n",
      "[ 6 13  7 12  9  3 14 13 11 10 14 14]\n"
     ]
    }
   ],
   "source": [
    "arr = np.random.randint(1,15,(3,4))\n",
    "print(arr.shape)\n",
    "print(arr)\n",
    "\n",
    "arr = arr.flatten()\n",
    "print(arr.shape)\n",
    "print(arr)"
   ]
  },
  {
   "cell_type": "markdown",
   "id": "f05e433f",
   "metadata": {},
   "source": [
    "# 15. Logspace  Function\n",
    "    The numpy.logspace() function returns number spaces evenly w.r.t interval on a log scale.\n",
    "\n",
    "Parameters :\n",
    "\n",
    "-> start : [float] start(base ** start) of interval range.\n",
    "\n",
    "-> stop : [float] end(base ** stop) of interval range\n",
    "\n",
    "-> endpoint : [boolean, optional]If True, stop is the last sample. By default, True\n",
    "\n",
    "-> num : [int, optional] No. of samples to generate\n",
    "\n",
    "-> base : [float, optional] Base of log scale. By default, equals 10.0\n",
    "\n",
    "-> dtype : type of output array"
   ]
  },
  {
   "cell_type": "code",
   "execution_count": 66,
   "id": "e692ab9e",
   "metadata": {},
   "outputs": [
    {
     "name": "stdout",
     "output_type": "stream",
     "text": [
      "[  100.           166.81005372   278.25594022   464.15888336\n",
      "   774.26368268  1291.54966501  2154.43469003  3593.8136638\n",
      "  5994.84250319 10000.        ]\n",
      "[ 4.          4.66611616  5.44316     6.34960421  7.4069977   8.64047791\n",
      " 10.0793684  11.75787594 13.71590373 16.        ]\n"
     ]
    }
   ],
   "source": [
    "print(np.logspace(2,4,10))\n",
    "\n",
    "print(np.logspace(2,4,10,base =2))"
   ]
  },
  {
   "cell_type": "markdown",
   "id": "7130c0fe",
   "metadata": {},
   "source": [
    "# 16. Copy function\n",
    "    If we normally use the equals sign then the **id** of both the numpy array will be same, so we need to use to copy function"
   ]
  },
  {
   "cell_type": "code",
   "execution_count": 68,
   "id": "c797e1fd",
   "metadata": {},
   "outputs": [
    {
     "name": "stdout",
     "output_type": "stream",
     "text": [
      "[11 11  9  5  1 14  7  8  9 14] 2744753003408\n",
      "[11 11  9  5  1 14  7  8  9 14] 2744753003408\n"
     ]
    }
   ],
   "source": [
    "arr1 = np.random.randint(1,15,10)\n",
    "arr2 = arr1\n",
    "\n",
    "print(arr1, id(arr1)) \n",
    "print(arr2, id(arr2)) #both have same address id"
   ]
  },
  {
   "cell_type": "code",
   "execution_count": 70,
   "id": "1f177817",
   "metadata": {},
   "outputs": [
    {
     "name": "stdout",
     "output_type": "stream",
     "text": [
      "[10  8 11  7  5  9  2  6 12  8] 2744753003984\n",
      "[10  8 11  7  5  9  2  6 12  8] 2744753003120\n"
     ]
    }
   ],
   "source": [
    "arr1 = np.random.randint(1,15,10)\n",
    "arr2 = np.copy(arr1)\n",
    "\n",
    "print(arr1,id(arr1))\n",
    "print(arr2, id(arr2)) #here address id's are different"
   ]
  },
  {
   "cell_type": "markdown",
   "id": "32350f1d",
   "metadata": {},
   "source": [
    "# 17. arr.max() ,  arr.min() ,     arr.sum() functions\n",
    "    arr.max() will give us the maximum element present in the array\n",
    "    arr.min() will give us the minimun element present in the array\n",
    "    arr.sum() will give us the sum of all the elements present in the array"
   ]
  },
  {
   "cell_type": "code",
   "execution_count": 83,
   "id": "28a24e50",
   "metadata": {},
   "outputs": [
    {
     "name": "stdout",
     "output_type": "stream",
     "text": [
      "[[ 6  9  3  8 13]\n",
      " [ 2  9  9  2 11]\n",
      " [ 8 12  6 13  4]]\n",
      "--------------------\n",
      "MAX : 13\n",
      "MIN : 2\n",
      "SUm : 115\n"
     ]
    }
   ],
   "source": [
    "arr = np.random.randint(1,15,(3,5))\n",
    "\n",
    "print(arr)\n",
    "print('-'*20)\n",
    "print('MAX :', arr.max())\n",
    "print('MIN :', arr.min())\n",
    "print('SUm :', arr.sum())"
   ]
  },
  {
   "cell_type": "markdown",
   "id": "db7cc010",
   "metadata": {},
   "source": [
    "### We can use the axis parameter to get the max, min and sum of a particular column or row\n",
    "\n",
    "axis=0 is for the column\n",
    "axis=1 is for the row"
   ]
  },
  {
   "cell_type": "code",
   "execution_count": 84,
   "id": "b5369583",
   "metadata": {},
   "outputs": [
    {
     "name": "stdout",
     "output_type": "stream",
     "text": [
      "[[ 4 11 14 12]\n",
      " [13  6 13 12]\n",
      " [10  2 13  6]]\n"
     ]
    }
   ],
   "source": [
    "arr = np.random.randint(1,15,(3,4))\n",
    "print(arr)"
   ]
  },
  {
   "cell_type": "markdown",
   "id": "787835cd",
   "metadata": {},
   "source": [
    "##### For columns"
   ]
  },
  {
   "cell_type": "code",
   "execution_count": 85,
   "id": "0499f875",
   "metadata": {},
   "outputs": [
    {
     "name": "stdout",
     "output_type": "stream",
     "text": [
      "MAX:  [13 11 14 12]\n",
      "MIN:  [ 4  2 13  6]\n",
      "SUM:  [27 19 40 30]\n"
     ]
    }
   ],
   "source": [
    "print('MAX: ', arr.max(axis = 0))\n",
    "print('MIN: ', arr.min(axis = 0))\n",
    "print('SUM: ', arr.sum(axis = 0))"
   ]
  },
  {
   "cell_type": "markdown",
   "id": "a72e61ba",
   "metadata": {},
   "source": [
    "##### Fow rows"
   ]
  },
  {
   "cell_type": "code",
   "execution_count": 86,
   "id": "abc82ed6",
   "metadata": {},
   "outputs": [
    {
     "name": "stdout",
     "output_type": "stream",
     "text": [
      "MAX: [14 13 13]\n",
      "MIN: [4 6 2]\n",
      "SUM: [41 44 31]\n"
     ]
    }
   ],
   "source": [
    "print('MAX:',arr.max(axis=1))\n",
    "print('MIN:',arr.min(axis=1))\n",
    "print('SUM:',arr.sum(axis=1))"
   ]
  },
  {
   "cell_type": "markdown",
   "id": "47ad0540",
   "metadata": {},
   "source": [
    "# 18. Seed Function\n",
    "    random() function is used to generate random numbers in Python. Not actually random, rather this is used to generate pseudo-random numbers. That implies that these randomly generated numbers can be determined. random() function generates numbers for some values. This value is also called seed value.\n",
    "\n",
    "    Syntax : random.seed( l, version )<br>\n",
    "\n",
    "    Parameter :\n",
    "\n",
    "    l : Any seed value used to produce a random number.\n",
    "    version : A integer used to specify how to convert l in a integer."
   ]
  },
  {
   "cell_type": "code",
   "execution_count": 92,
   "id": "7a2f26b4",
   "metadata": {},
   "outputs": [
    {
     "data": {
      "text/plain": [
       "array([[9, 4, 9, 9, 1],\n",
       "       [6, 4, 6, 8, 7],\n",
       "       [1, 5, 8, 9, 2]])"
      ]
     },
     "execution_count": 92,
     "metadata": {},
     "output_type": "execute_result"
    }
   ],
   "source": [
    "np.random.seed(3)\n",
    "\n",
    "arr = np.random.randint(1,10,(3,5))\n",
    "arr"
   ]
  },
  {
   "cell_type": "markdown",
   "id": "7f2b062b",
   "metadata": {},
   "source": [
    "# 19. Sorting Function\n",
    "    numpy.sort() : This function returns a sorted copy of an array.\n",
    "\n",
    "    Parameters :\n",
    "\n",
    "arr : Array to be sorted.\n",
    "\n",
    "axis : Axis along which we need array to be started.\n",
    "\n",
    "order : This argument specifies which fields to compare first.\n",
    "\n",
    "kind : [‘quicksort’{default}, ‘mergesort’, ‘heapsort’]Sorting algorithm."
   ]
  },
  {
   "cell_type": "code",
   "execution_count": 104,
   "id": "4a3141bd",
   "metadata": {},
   "outputs": [
    {
     "name": "stdout",
     "output_type": "stream",
     "text": [
      "[[9 4 9 9 1]\n",
      " [6 4 6 8 7]\n",
      " [1 5 8 9 2]]\n",
      "---------------\n",
      "[[1 4 9 9 9]\n",
      " [4 6 6 7 8]\n",
      " [1 2 5 8 9]]\n",
      "---------------\n",
      "[[1 4 6 8 1]\n",
      " [6 4 8 9 2]\n",
      " [9 5 9 9 7]]\n",
      "---------------\n",
      "[9 4 9 9 1 6 4 6 8 7 1 5 8 9 2]\n",
      "[[1 1 2 4 4]\n",
      " [5 6 6 7 8]\n",
      " [8 9 9 9 9]]\n"
     ]
    }
   ],
   "source": [
    "np.random.seed(3)\n",
    "arr = np.random.randint(1,10,(3,5))\n",
    "\n",
    "print(arr)\n",
    "print('-'*15)\n",
    "print(np.sort(arr,axis=1))\n",
    "print('-'*15)\n",
    "print(np.sort(arr,axis=0))\n",
    "\n",
    "print('-'*15)\n",
    "\n",
    "print(arr.flatten())\n",
    "np.sort(arr.flatten())\n",
    "\n",
    "arr = np.reshape(np.sort(arr.flatten()),arr.shape)\n",
    "print(arr)"
   ]
  },
  {
   "cell_type": "markdown",
   "id": "5a592cdd",
   "metadata": {},
   "source": [
    "# 20. Mathematical Operations"
   ]
  },
  {
   "cell_type": "markdown",
   "id": "42639cd8",
   "metadata": {},
   "source": [
    "### a) Addition"
   ]
  },
  {
   "cell_type": "code",
   "execution_count": 105,
   "id": "517b61bc",
   "metadata": {},
   "outputs": [
    {
     "name": "stdout",
     "output_type": "stream",
     "text": [
      "[[9 4 9 9 1]\n",
      " [6 4 6 8 7]\n",
      " [1 5 8 9 2]]\n",
      "---------------\n",
      "[[10  5 10 10  2]\n",
      " [ 7  5  7  9  8]\n",
      " [ 2  6  9 10  3]]\n"
     ]
    }
   ],
   "source": [
    "np.random.seed(3)\n",
    "\n",
    "arr = np.random.randint(1,10,(3,5))\n",
    "print(arr)\n",
    "print('-' * 15)\n",
    "print(arr+1)"
   ]
  },
  {
   "cell_type": "markdown",
   "id": "64a9e977",
   "metadata": {},
   "source": [
    "### b) Substraction"
   ]
  },
  {
   "cell_type": "code",
   "execution_count": 106,
   "id": "21ab22c2",
   "metadata": {},
   "outputs": [
    {
     "name": "stdout",
     "output_type": "stream",
     "text": [
      "[[9 4 9 9 1]\n",
      " [6 4 6 8 7]\n",
      " [1 5 8 9 2]]\n",
      "---------------\n",
      "[[8 3 8 8 0]\n",
      " [5 3 5 7 6]\n",
      " [0 4 7 8 1]]\n"
     ]
    }
   ],
   "source": [
    "np.random.seed(3)\n",
    "arr = np.random.randint(1,10,(3,5))\n",
    "print(arr)\n",
    "print('-'*15)\n",
    "print(arr-1)"
   ]
  },
  {
   "cell_type": "markdown",
   "id": "361e5159",
   "metadata": {},
   "source": [
    "### c) Multiplication\n"
   ]
  },
  {
   "cell_type": "code",
   "execution_count": 107,
   "id": "57dd5f15",
   "metadata": {},
   "outputs": [
    {
     "name": "stdout",
     "output_type": "stream",
     "text": [
      "[[9 4 9 9 1]\n",
      " [6 4 6 8 7]\n",
      " [1 5 8 9 2]]\n",
      "---------------\n",
      "[[18  8 18 18  2]\n",
      " [12  8 12 16 14]\n",
      " [ 2 10 16 18  4]]\n"
     ]
    }
   ],
   "source": [
    "np.random.seed(3)\n",
    "np.random.randint(1,10,(3,5))\n",
    "print(arr)\n",
    "print('-' * 15)\n",
    "print(arr * 2)"
   ]
  },
  {
   "cell_type": "markdown",
   "id": "0389b4ee",
   "metadata": {},
   "source": [
    "### d) Division"
   ]
  },
  {
   "cell_type": "code",
   "execution_count": 108,
   "id": "5adec86c",
   "metadata": {},
   "outputs": [
    {
     "name": "stdout",
     "output_type": "stream",
     "text": [
      "[[9 4 9 9 1]\n",
      " [6 4 6 8 7]\n",
      " [1 5 8 9 2]]\n",
      "---------------\n",
      "[[4 2 4 4 0]\n",
      " [3 2 3 4 3]\n",
      " [0 2 4 4 1]]\n"
     ]
    }
   ],
   "source": [
    "np.random.seed(3)\n",
    "np.random.randint(1,10,(3,5))\n",
    "print(arr)\n",
    "print('-' * 15)\n",
    "print(arr//2)"
   ]
  },
  {
   "cell_type": "markdown",
   "id": "f868359e",
   "metadata": {},
   "source": [
    "### e) Matrix Multiplication\n",
    "    For Matrix Multiplication we either use the \n",
    "\n",
    "    ->dot function or\n",
    "    ->the @ symbol\n"
   ]
  },
  {
   "cell_type": "code",
   "execution_count": 180,
   "id": "96e0be4f",
   "metadata": {},
   "outputs": [
    {
     "name": "stdout",
     "output_type": "stream",
     "text": [
      "[[ 25  78]\n",
      " [ 45 108]]\n",
      "---------------\n",
      "[[ 25  78]\n",
      " [ 45 108]]\n"
     ]
    }
   ],
   "source": [
    "np.random.seed(3)\n",
    "arr1 = np.random.randint(1,10,(2,2))\n",
    "arr2 = np.random.randint(1,10,(2,2))\n",
    "print(arr1.dot(arr2))\n",
    "\n",
    "print('-'*15)\n",
    "\n",
    "print(arr1@arr2)"
   ]
  },
  {
   "cell_type": "markdown",
   "id": "3cdad1df",
   "metadata": {},
   "source": [
    "### f) Power"
   ]
  },
  {
   "cell_type": "code",
   "execution_count": 113,
   "id": "57e6cf14",
   "metadata": {},
   "outputs": [
    {
     "name": "stdout",
     "output_type": "stream",
     "text": [
      "[[9 4 9 9 1]\n",
      " [6 4 6 8 7]\n",
      " [1 5 8 9 2]]\n",
      "---------------\n",
      "[[81 16 81 81  1]\n",
      " [36 16 36 64 49]\n",
      " [ 1 25 64 81  4]]\n"
     ]
    }
   ],
   "source": [
    "print(arr)\n",
    "print('-' * 15)\n",
    "print(arr ** 2)"
   ]
  },
  {
   "cell_type": "markdown",
   "id": "6b43fcda",
   "metadata": {},
   "source": [
    "# 21. Percentile Function\n",
    "    numpy.percentile()function used to compute the nth percentile of the given data (array elements) along the specified axis."
   ]
  },
  {
   "cell_type": "code",
   "execution_count": 118,
   "id": "f8794087",
   "metadata": {},
   "outputs": [
    {
     "name": "stdout",
     "output_type": "stream",
     "text": [
      "[9 4 9 9 1 6 4 6 8 7]\n",
      "[1 4 4 6 6 7 8 9 9 9]\n",
      "6.5\n"
     ]
    }
   ],
   "source": [
    "np.random.seed(3)\n",
    "arr = np.random.randint(1,10,10)\n",
    "print(arr)\n",
    "\n",
    "arr=np.sort(arr)\n",
    "print(arr)\n",
    "\n",
    "print(np.percentile(arr,50))"
   ]
  },
  {
   "cell_type": "markdown",
   "id": "3f392ce9",
   "metadata": {},
   "source": [
    "# 22. Mean, Variance and Standard deviation\n",
    "    In NumPy, we can compute the mean, standard deviation, and variance of a given array along the second axis by two approaches first is by using inbuilt functions and second is by the formulas of the mean, standard deviation, and variance.\n",
    "\n",
    "    Using numpy.mean(), numpy.std(), numpy.var()"
   ]
  },
  {
   "cell_type": "code",
   "execution_count": 122,
   "id": "5cd8be09",
   "metadata": {},
   "outputs": [
    {
     "name": "stdout",
     "output_type": "stream",
     "text": [
      "[9 4 9 9 1 6 4 6 8 7]\n",
      "6.3\n",
      "6.410000000000001\n",
      "2.5317977802344327\n"
     ]
    }
   ],
   "source": [
    "np.random.seed(3)\n",
    "arr = np.random.randint(1,10,10)\n",
    "print(arr)\n",
    "\n",
    "print(arr.mean())\n",
    "print(arr.var())\n",
    "print(arr.std())"
   ]
  },
  {
   "cell_type": "markdown",
   "id": "617b75fa",
   "metadata": {},
   "source": [
    "# 23. Filtering an numpy array"
   ]
  },
  {
   "cell_type": "code",
   "execution_count": 126,
   "id": "c67e6208",
   "metadata": {},
   "outputs": [
    {
     "name": "stdout",
     "output_type": "stream",
     "text": [
      "[ 1  2  3  4  5  6  7  8  9 10 11 12 13 14]\n",
      "[False False False False False  True  True  True  True  True  True  True\n",
      "  True  True]\n",
      "[ True  True  True  True False False False False False False False False\n",
      " False False]\n"
     ]
    }
   ],
   "source": [
    "arr = np.arange(1,15)\n",
    "\n",
    "print(arr)\n",
    "print(arr>5)\n",
    "print(arr<5)"
   ]
  },
  {
   "cell_type": "code",
   "execution_count": 128,
   "id": "0c26e8f6",
   "metadata": {},
   "outputs": [
    {
     "name": "stdout",
     "output_type": "stream",
     "text": [
      "[ 6  7  8  9 10 11 12 13 14]\n",
      "[1 2 3 4]\n"
     ]
    }
   ],
   "source": [
    "print(arr[arr>5])\n",
    "print(arr[arr<5])"
   ]
  },
  {
   "cell_type": "markdown",
   "id": "4ce23e39",
   "metadata": {},
   "source": [
    "###### . We can store this into a new variable if we need this filtered array"
   ]
  },
  {
   "cell_type": "code",
   "execution_count": 129,
   "id": "a9243d05",
   "metadata": {},
   "outputs": [
    {
     "name": "stdout",
     "output_type": "stream",
     "text": [
      "[1 2 3 4]\n"
     ]
    }
   ],
   "source": [
    "arr2 = arr[arr<5]\n",
    "print(arr2)"
   ]
  },
  {
   "cell_type": "markdown",
   "id": "88c87d4b",
   "metadata": {},
   "source": [
    "###### .If we want to replace all the values above 5 with 10 we can even do that"
   ]
  },
  {
   "cell_type": "code",
   "execution_count": 133,
   "id": "6a408de8",
   "metadata": {},
   "outputs": [
    {
     "data": {
      "text/plain": [
       "array([ 1,  2,  3,  4,  5, 10, 10, 10, 10, 10, 10, 10, 10, 10])"
      ]
     },
     "execution_count": 133,
     "metadata": {},
     "output_type": "execute_result"
    }
   ],
   "source": [
    "arr[arr > 5] = 10\n",
    "arr"
   ]
  },
  {
   "cell_type": "markdown",
   "id": "0cc02c49",
   "metadata": {},
   "source": [
    "# 24 Transposing an array\n",
    "    With the help of Numpy ndarray.T object, we can make a Transpose of an array having dimension greater than or equal to 2."
   ]
  },
  {
   "cell_type": "code",
   "execution_count": 134,
   "id": "7ceb3260",
   "metadata": {},
   "outputs": [
    {
     "name": "stdout",
     "output_type": "stream",
     "text": [
      "[[ 1 13  8 15 18]\n",
      " [ 3  3  2  6  9]\n",
      " [15  2 11  8 12]]\n",
      "---------------\n",
      "[[ 1  3 15]\n",
      " [13  3  2]\n",
      " [ 8  2 11]\n",
      " [15  6  8]\n",
      " [18  9 12]]\n"
     ]
    }
   ],
   "source": [
    "arr = np.random.randint(1,20,(3,5))\n",
    "print(arr)\n",
    "print('-' * 15)\n",
    "print(arr.T)"
   ]
  },
  {
   "cell_type": "markdown",
   "id": "26d5e9c9",
   "metadata": {},
   "source": [
    "# 25. Where function \n",
    "    The numpy.where() function returns the indices of elements in an input array where the given condition is satisfied.\n",
    "\n",
    "    Syntax :numpy.where(condition[, x, y]) Parameters: condition : When True, yield x, otherwise yield y. x, y : Values from which to choose. x, y and condition need to be broadcastable to some shape.\n",
    "\n",
    "    Returns: out : [ndarray or tuple of ndarrays] If both x and y are specified, the output array contains elements of x where condition is True, and elements from y elsewhere.\n",
    "\n",
    "    If only condition is given, return the tuple condition.nonzero(), the indices where condition is True.\n",
    "\n"
   ]
  },
  {
   "cell_type": "code",
   "execution_count": 136,
   "id": "158a2833",
   "metadata": {},
   "outputs": [
    {
     "data": {
      "text/plain": [
       "array([ 6,  8,  6, 15,  2, 18,  2, 11, 12,  5])"
      ]
     },
     "execution_count": 136,
     "metadata": {},
     "output_type": "execute_result"
    }
   ],
   "source": [
    "arr = np.random.randint(1,20,10)\n",
    "arr"
   ]
  },
  {
   "cell_type": "markdown",
   "id": "aa62465f",
   "metadata": {},
   "source": [
    "    ->So now if we are having an even number let's convert it into 100 and the ones which are odd we leave it to the way it is"
   ]
  },
  {
   "cell_type": "code",
   "execution_count": 140,
   "id": "c6ca76d5",
   "metadata": {},
   "outputs": [
    {
     "name": "stdout",
     "output_type": "stream",
     "text": [
      "[ 6  8  6 15  2 18  2 11 12  5]\n",
      "[100 100 100  15 100 100 100  11 100   5]\n"
     ]
    }
   ],
   "source": [
    "print(arr)\n",
    "print(np.where(arr%2==0, 100,arr))"
   ]
  },
  {
   "cell_type": "code",
   "execution_count": 155,
   "id": "a3103942",
   "metadata": {},
   "outputs": [
    {
     "name": "stdout",
     "output_type": "stream",
     "text": [
      "[ 6  8  6 15  2 18  2 11 12  5]\n",
      "['even' 'even' 'even' '15' 'even' 'even' 'even' '11' 'even' '5']\n",
      "['6' '8' '6' 'odd' '2' '18' '2' 'odd' '12' 'odd']\n",
      "['even' 'even' 'even' 'odd' 'even' 'even' 'even' 'odd' 'even' 'odd']\n"
     ]
    }
   ],
   "source": [
    "print(arr)\n",
    "print(np.where(arr%2==0, 'even',arr))\n",
    "print(np.where(arr%2!=0, 'odd',arr))\n",
    "\n",
    "arr1 = np.where(arr%2==0, 'even',arr)\n",
    "arr1 = np.where(arr%2!=0, 'odd',arr1)\n",
    "\n",
    "print(arr1)"
   ]
  },
  {
   "cell_type": "markdown",
   "id": "a8eb7c26",
   "metadata": {},
   "source": [
    "# 26. Merging Arrays\n",
    "##### a) Concatenate\n",
    "    We can perform the concatenation operation using the concatenate() function. With this function, arrays are concatenated either row-wise or column-wise, given that they have equal rows or columns respectively. Column-wise concatenation can be done by equating axis to 1 as an argument in the function."
   ]
  },
  {
   "cell_type": "code",
   "execution_count": 164,
   "id": "eac527f6",
   "metadata": {},
   "outputs": [
    {
     "name": "stdout",
     "output_type": "stream",
     "text": [
      "[[1 6 7 8]\n",
      " [1 8 9 2]]\n",
      "---------------\n",
      "[[6 4 7 2]\n",
      " [4 8 5 1]]\n",
      "---------------\n",
      "[[1 6 7 8]\n",
      " [1 8 9 2]\n",
      " [6 4 7 2]\n",
      " [4 8 5 1]]\n"
     ]
    }
   ],
   "source": [
    "arr1 = np.random.randint(1,10,(2,4))\n",
    "arr2 = np.random.randint(1,10,(2,4))\n",
    "\n",
    "print(arr1)\n",
    "print('-'*15)\n",
    "print(arr2)\n",
    "print('-'*15)\n",
    "print(np.concatenate((arr1,arr2),axis=0)) #concatenation of rows"
   ]
  },
  {
   "cell_type": "code",
   "execution_count": 165,
   "id": "cd0a0bcf",
   "metadata": {},
   "outputs": [
    {
     "name": "stdout",
     "output_type": "stream",
     "text": [
      "[[1 6 7 8 6 4 7 2]\n",
      " [1 8 9 2 4 8 5 1]]\n"
     ]
    }
   ],
   "source": [
    "print(np.concatenate((arr1,arr2),axis=1)) #concatenate columns"
   ]
  },
  {
   "cell_type": "markdown",
   "id": "eb0bd885",
   "metadata": {},
   "source": [
    "##### b) Vstack and Hstack\n",
    "    numpy.hstack() function is used to stack the sequence of input arrays horizontally (i.e. column wise) to make a single           array."
   ]
  },
  {
   "cell_type": "code",
   "execution_count": 167,
   "id": "fcaa8011",
   "metadata": {},
   "outputs": [
    {
     "name": "stdout",
     "output_type": "stream",
     "text": [
      "[[9 8 2 3]\n",
      " [6 3 8 7]]\n",
      "---------------\n",
      "[[8 2 6 8]\n",
      " [6 8 3 7]]\n",
      "---------------\n"
     ]
    },
    {
     "data": {
      "text/plain": [
       "array([[9, 8, 2, 3, 8, 2, 6, 8],\n",
       "       [6, 3, 8, 7, 6, 8, 3, 7]])"
      ]
     },
     "execution_count": 167,
     "metadata": {},
     "output_type": "execute_result"
    }
   ],
   "source": [
    "arr1 = np.random.randint(1,10,(2,4))\n",
    "arr2 = np.random.randint(1,10,(2,4))\n",
    "\n",
    "print(arr1)\n",
    "print('-'*15)\n",
    "print(arr2)\n",
    "print('-'*15)\n",
    "\n",
    "np.hstack((arr1,arr2))\n"
   ]
  },
  {
   "cell_type": "markdown",
   "id": "4cdee7bb",
   "metadata": {},
   "source": [
    "##### numpy.vstack() function is used to stack the sequence of input arrays vertically to make a single array."
   ]
  },
  {
   "cell_type": "code",
   "execution_count": 168,
   "id": "399393ea",
   "metadata": {},
   "outputs": [
    {
     "name": "stdout",
     "output_type": "stream",
     "text": [
      "[[9 8 2 3]\n",
      " [6 3 8 7]]\n",
      "---------------\n",
      "[[8 2 6 8]\n",
      " [6 8 3 7]]\n",
      "---------------\n"
     ]
    },
    {
     "data": {
      "text/plain": [
       "array([[9, 8, 2, 3],\n",
       "       [6, 3, 8, 7],\n",
       "       [8, 2, 6, 8],\n",
       "       [6, 8, 3, 7]])"
      ]
     },
     "execution_count": 168,
     "metadata": {},
     "output_type": "execute_result"
    }
   ],
   "source": [
    "print(arr1)\n",
    "print('-'*15)\n",
    "print(arr2)\n",
    "print('-'*15)\n",
    "\n",
    "np.vstack((arr1,arr2))\n"
   ]
  },
  {
   "cell_type": "markdown",
   "id": "548c3587",
   "metadata": {},
   "source": [
    "# 27. Splitting Arrays"
   ]
  },
  {
   "cell_type": "code",
   "execution_count": 169,
   "id": "cf2eeaf6",
   "metadata": {},
   "outputs": [
    {
     "name": "stdout",
     "output_type": "stream",
     "text": [
      "[[5 9 5 4]\n",
      " [9 6 7 4]\n",
      " [9 5 3 8]\n",
      " [8 3 3 1]]\n"
     ]
    }
   ],
   "source": [
    "arr = np.random.randint(1,10,(4,4))\n",
    "print(arr)"
   ]
  },
  {
   "cell_type": "markdown",
   "id": "95051c87",
   "metadata": {},
   "source": [
    "    numpy.vsplit() function split an array into multiple sub-arrays vertically (row-wise). vsplit is equivalent to split with axis=0 (default), the array is always split along the first axis regardless of the array dimension."
   ]
  },
  {
   "cell_type": "code",
   "execution_count": 170,
   "id": "d5da7ae5",
   "metadata": {},
   "outputs": [
    {
     "data": {
      "text/plain": [
       "[array([[5, 9, 5, 4],\n",
       "        [9, 6, 7, 4]]),\n",
       " array([[9, 5, 3, 8],\n",
       "        [8, 3, 3, 1]])]"
      ]
     },
     "execution_count": 170,
     "metadata": {},
     "output_type": "execute_result"
    }
   ],
   "source": [
    "np.vsplit(arr, 2)"
   ]
  },
  {
   "cell_type": "markdown",
   "id": "2c5af2dc",
   "metadata": {},
   "source": [
    "    numpy.hsplit() function split an array into multiple sub-arrays horizontally (column-wise). hsplit is equivalent to split with axis=1, the array is always split along the second axis regardless of the array dimension."
   ]
  },
  {
   "cell_type": "code",
   "execution_count": 171,
   "id": "afd2ef56",
   "metadata": {},
   "outputs": [
    {
     "data": {
      "text/plain": [
       "[array([[5, 9],\n",
       "        [9, 6],\n",
       "        [9, 5],\n",
       "        [8, 3]]),\n",
       " array([[5, 4],\n",
       "        [7, 4],\n",
       "        [3, 8],\n",
       "        [3, 1]])]"
      ]
     },
     "execution_count": 171,
     "metadata": {},
     "output_type": "execute_result"
    }
   ],
   "source": [
    "np.hsplit(arr,2)"
   ]
  },
  {
   "cell_type": "markdown",
   "id": "117bd481",
   "metadata": {},
   "source": [
    "# 28. Turning Pics into Numpy arrays"
   ]
  },
  {
   "cell_type": "markdown",
   "id": "7c3ed3f0",
   "metadata": {},
   "source": [
    "![](GFG.png)"
   ]
  },
  {
   "cell_type": "markdown",
   "id": "775292b5",
   "metadata": {},
   "source": [
    "    This is picture we are having right here\n",
    "    \n",
    "    Once we can turn this picture into an numpy array we can perform operations on that and pass the array even for some machine learning algorithms which will be benefitial for us\n",
    "\n",
    "    We will be using imread function here which belongs from the matplotlib class"
   ]
  },
  {
   "cell_type": "code",
   "execution_count": 172,
   "id": "1a760346",
   "metadata": {},
   "outputs": [],
   "source": [
    "from matplotlib.image import imread"
   ]
  },
  {
   "cell_type": "code",
   "execution_count": 174,
   "id": "30e1857e",
   "metadata": {},
   "outputs": [
    {
     "data": {
      "text/plain": [
       "array([[[0.09803922, 0.74509805, 0.92941177],\n",
       "        [0.09803922, 0.74509805, 0.92941177],\n",
       "        [0.09803922, 0.74509805, 0.92941177],\n",
       "        ...,\n",
       "        [0.09803922, 0.74509805, 0.92941177],\n",
       "        [0.09803922, 0.74509805, 0.92941177],\n",
       "        [0.09803922, 0.74509805, 0.92941177]],\n",
       "\n",
       "       [[0.09803922, 0.74509805, 0.92941177],\n",
       "        [0.09803922, 0.74509805, 0.92941177],\n",
       "        [0.09803922, 0.74509805, 0.92941177],\n",
       "        ...,\n",
       "        [0.09803922, 0.74509805, 0.92941177],\n",
       "        [0.09803922, 0.74509805, 0.92941177],\n",
       "        [0.09803922, 0.74509805, 0.92941177]],\n",
       "\n",
       "       [[0.09803922, 0.74509805, 0.92941177],\n",
       "        [0.09803922, 0.74509805, 0.92941177],\n",
       "        [0.09803922, 0.74509805, 0.92941177],\n",
       "        ...,\n",
       "        [0.09803922, 0.74509805, 0.92941177],\n",
       "        [0.09803922, 0.74509805, 0.92941177],\n",
       "        [0.09803922, 0.74509805, 0.92941177]],\n",
       "\n",
       "       ...,\n",
       "\n",
       "       [[0.05882353, 0.6039216 , 0.75686276],\n",
       "        [0.05882353, 0.6039216 , 0.75686276],\n",
       "        [0.05882353, 0.6039216 , 0.75686276],\n",
       "        ...,\n",
       "        [0.05882353, 0.6039216 , 0.75686276],\n",
       "        [0.05882353, 0.6039216 , 0.75686276],\n",
       "        [0.05882353, 0.6039216 , 0.75686276]],\n",
       "\n",
       "       [[0.05882353, 0.6039216 , 0.75686276],\n",
       "        [0.05882353, 0.6039216 , 0.75686276],\n",
       "        [0.05882353, 0.6039216 , 0.75686276],\n",
       "        ...,\n",
       "        [0.05882353, 0.6039216 , 0.75686276],\n",
       "        [0.05882353, 0.6039216 , 0.75686276],\n",
       "        [0.05882353, 0.6039216 , 0.75686276]],\n",
       "\n",
       "       [[0.05882353, 0.6039216 , 0.75686276],\n",
       "        [0.05882353, 0.6039216 , 0.75686276],\n",
       "        [0.05882353, 0.6039216 , 0.75686276],\n",
       "        ...,\n",
       "        [0.05882353, 0.6039216 , 0.75686276],\n",
       "        [0.05882353, 0.6039216 , 0.75686276],\n",
       "        [0.05882353, 0.6039216 , 0.75686276]]], dtype=float32)"
      ]
     },
     "execution_count": 174,
     "metadata": {},
     "output_type": "execute_result"
    }
   ],
   "source": [
    "img = imread('GFG.png')\n",
    "img"
   ]
  },
  {
   "cell_type": "code",
   "execution_count": 175,
   "id": "012bf786",
   "metadata": {},
   "outputs": [
    {
     "data": {
      "text/plain": [
       "(607, 1000, 3)"
      ]
     },
     "execution_count": 175,
     "metadata": {},
     "output_type": "execute_result"
    }
   ],
   "source": [
    "img.shape"
   ]
  },
  {
   "cell_type": "code",
   "execution_count": 178,
   "id": "051f5f04",
   "metadata": {},
   "outputs": [
    {
     "data": {
      "text/plain": [
       "1.0"
      ]
     },
     "execution_count": 178,
     "metadata": {},
     "output_type": "execute_result"
    }
   ],
   "source": [
    "np.max(img) #1 stands for white colour"
   ]
  },
  {
   "cell_type": "code",
   "execution_count": 179,
   "id": "4d21ff9d",
   "metadata": {},
   "outputs": [
    {
     "data": {
      "text/plain": [
       "0.05882353"
      ]
     },
     "execution_count": 179,
     "metadata": {},
     "output_type": "execute_result"
    }
   ],
   "source": [
    "np.min(img) #0 stands for black colour"
   ]
  },
  {
   "cell_type": "code",
   "execution_count": null,
   "id": "d7e63c67",
   "metadata": {},
   "outputs": [],
   "source": []
  }
 ],
 "metadata": {
  "kernelspec": {
   "display_name": "Python 3 (ipykernel)",
   "language": "python",
   "name": "python3"
  },
  "language_info": {
   "codemirror_mode": {
    "name": "ipython",
    "version": 3
   },
   "file_extension": ".py",
   "mimetype": "text/x-python",
   "name": "python",
   "nbconvert_exporter": "python",
   "pygments_lexer": "ipython3",
   "version": "3.11.5"
  }
 },
 "nbformat": 4,
 "nbformat_minor": 5
}
